{
  "nbformat": 4,
  "nbformat_minor": 0,
  "metadata": {
    "colab": {
      "provenance": [],
      "authorship_tag": "ABX9TyO6WP+GInZQ8qU9Go2frJEA",
      "include_colab_link": true
    },
    "kernelspec": {
      "name": "python3",
      "display_name": "Python 3"
    },
    "language_info": {
      "name": "python"
    }
  },
  "cells": [
    {
      "cell_type": "markdown",
      "metadata": {
        "id": "view-in-github",
        "colab_type": "text"
      },
      "source": [
        "<a href=\"https://colab.research.google.com/github/shusank8/Transformers/blob/main/Transformers.ipynb\" target=\"_parent\"><img src=\"https://colab.research.google.com/assets/colab-badge.svg\" alt=\"Open In Colab\"/></a>"
      ]
    },
    {
      "cell_type": "code",
      "execution_count": null,
      "metadata": {
        "colab": {
          "base_uri": "https://localhost:8080/"
        },
        "id": "TlMNuiFh-P7k",
        "outputId": "1f3f0975-0950-4906-d1ce-a780f8ad1399"
      },
      "outputs": [
        {
          "output_type": "stream",
          "name": "stdout",
          "text": [
            "Transformers.... Excited\n"
          ]
        }
      ],
      "source": [
        "print(\"Transformers.... Excited\")"
      ]
    },
    {
      "cell_type": "code",
      "source": [
        "# imports\n",
        "import torch\n",
        "import torch.nn as nn\n",
        "import math"
      ],
      "metadata": {
        "id": "s9kj-4Uh-U5j"
      },
      "execution_count": null,
      "outputs": []
    },
    {
      "cell_type": "code",
      "source": [
        "class InputEmbeddings(nn.Module):\n",
        "\n",
        "  def __init__(self, vocab_size, embdim):\n",
        "    super().__init__()\n",
        "    self.embeddings = nn.Embedding(vocab_size, embdim)\n",
        "\n",
        "  def forward(self, x):\n",
        "    return self.embeddings(x)\n"
      ],
      "metadata": {
        "id": "1XEfUQea_NFA"
      },
      "execution_count": null,
      "outputs": []
    },
    {
      "cell_type": "code",
      "source": [
        "class PositionalEmbeddings(nn.Module):\n",
        "\n",
        "  def __init__(self, block_size, embdim, dropout):\n",
        "    super().__init__()\n",
        "    self.dropout = nn.Dropout(dropout)\n",
        "\n",
        "    pe = torch.zeros(block_size, embdim)\n",
        "\n",
        "    position = torch.arange(0, block_size, dtype = torch.float).unsqueeze(1)\n",
        "\n",
        "    div_term = torch.exp(torch.arange(0, embdim, 2).float() * (-math.log(10000.0)/embdim))\n",
        "\n",
        "    pe[:, 0::2] = torch.sin(position*div_term)\n",
        "    pe[:, 1::2] = torch.cos(position*div_term)\n",
        "    pe = pe.unsqueeze(0)\n",
        "    self.register_buffer('pe', pe)\n",
        "\n",
        "  def forward(self, x):\n",
        "    x = self.pe[:, :x.shape[1],:]\n",
        "    x = self.dropout(x)\n",
        "    return x"
      ],
      "metadata": {
        "id": "cBbwQQ9t_oO_"
      },
      "execution_count": null,
      "outputs": []
    },
    {
      "cell_type": "code",
      "source": [
        "class LayerNormalization(nn.Module):\n",
        "\n",
        "  def __init__(self, embdim):\n",
        "    self.alpha = nn.Parameters(torch.ones(embdim))\n",
        "    self.bias = nn.Parameters(torch.zeros(embdim))\n",
        "\n",
        "  def forward(self, x):\n",
        "    xmean = x.mean(dim=-1, keepdim=True)\n",
        "    xvar = x.var(dim=-1, keepdim=True)\n",
        "    x = self.alpha*((x-xmean)/(xvar+eps)**(1/2))+self.bias\n",
        "    return x\n",
        "\n"
      ],
      "metadata": {
        "id": "47y2lRPNJWO5"
      },
      "execution_count": null,
      "outputs": []
    },
    {
      "cell_type": "code",
      "source": [
        "class FeedForward(nn.Module):\n",
        "\n",
        "  def __init__(self, embdim, dropout):\n",
        "    super().__init__()\n",
        "    self.m = nn.Sequential(\n",
        "        nn.Linear(embdim, 3*embdim),\n",
        "        nn.ReLU(),\n",
        "        nn.Linear(3*embdim, embdim),\n",
        "        nn.Dropout(dropout)\n",
        "    )\n",
        "\n",
        "  def forward(self, x):\n",
        "    x = self.m(x)\n",
        "    return x\n"
      ],
      "metadata": {
        "id": "22KaQUo4d0IU"
      },
      "execution_count": null,
      "outputs": []
    },
    {
      "cell_type": "code",
      "source": [
        "class MultiHeadAttentionBlock(nn.Module):\n",
        "\n",
        "  def __init__(self, embdim, no_of_heads, dropout):\n",
        "\n",
        "    self.q = nn.Linear(embdim, embdim)\n",
        "    self.k = nn.Linear(embdim, embdim)\n",
        "    self.v = nn.Linear(embdim, embdim)\n",
        "    self.proj = nn.Linear(embdim, embdim)\n",
        "    self.no_of_heads = no_of_heads\n",
        "    dropout = nn.Dropout(dropout)\n",
        "\n",
        "  @staticmethod\n",
        "  def attention(query, key, value, mask, dropout):\n",
        "    head_dim = query.shape[-1]\n",
        "    attention_scores = (query@key.transpose(-2,-1))/math.sqrt(head_dim)\n",
        "    if mask is not None:\n",
        "      attention_scores.masked_fill(mask==0, float(\"-inf\"))\n",
        "    attention_scores = attention_scores.softmax(dim=-1)\n",
        "    if dropout is not None:\n",
        "      attention_scores = dropout(attention_scores)\n",
        "    return (attention_scores@value), attention_scores\n",
        "\n",
        "\n",
        "\n",
        "  def forward(self, query, key, val, mask):\n",
        "    # for self attn query==key==val but cross attn\n",
        "    q = self.q(query)\n",
        "    k = self.k(key)\n",
        "    v = self.v(val)\n",
        "    hdim = q.shape[-1]//self.no_of_heads\n",
        "    # shape of q=> (B, T, C) BUT WE WANT TO BREAK C INTO DIFF HEADS\n",
        "    # (B,T,NO_OF_HEADS, HEADIM) WHERE NO_OF_HEADS * HEADIM = C\n",
        "    query = q.view(q.shape[0], q.shape[1], self.no_of_heads, hdim).transpose(1,2)\n",
        "    key = k.view(k.shape[0], k.shape[1], self.no_of_heads, hdim).transpose(1,2)\n",
        "    v = v.view(v.shape[0], v.shape[1], self.no_of_heads, hdim).transpose(1,2)\n",
        "\n",
        "    x, attn_scores = MultiHeadAttentionBlock(q, k, v, mask, dropout)\n",
        "    x = x.transpose(1,2).contiguous().view(x.shape[0], -1, embdim)\n",
        "    return self.proj(x)\n"
      ],
      "metadata": {
        "id": "2JJniu-nhLue"
      },
      "execution_count": null,
      "outputs": []
    },
    {
      "cell_type": "code",
      "source": [
        "class ResidualConnection(nn.Module):\n",
        "  def __init__(self, dropout, embdim):\n",
        "    super().__init__()\n",
        "    self.dropout  = nn.Dropout(dropout)\n",
        "    self.norm = LayerNormalization(embdim)\n",
        "\n",
        "  def forward(self, x, sublayer):\n",
        "    return x+ self.dropout(sublayer(self.norm(x)))"
      ],
      "metadata": {
        "id": "9SBXl1nWrDN1"
      },
      "execution_count": null,
      "outputs": []
    },
    {
      "cell_type": "code",
      "source": [
        "class EncoderBlock(nn.Module):\n",
        "\n",
        "  def __init__(self, s_attn, ffwd, dropout):\n",
        "    super().__init__()\n",
        "    self.selfattn = s_attn\n",
        "    self.ffwd = ffwd\n",
        "    self.residual_connections = nn.ModuleList([ResidualConnection(dropout) for _ in range(2)])\n",
        "\n",
        "  def forward(self, x, src_mask):\n",
        "    x = self.residual_connections[0](x, lambda x: self.selfattn(x,x,x,src_mask))\n",
        "    x = self.residual_connections[1](x, self.ffwd)\n",
        "    return x"
      ],
      "metadata": {
        "id": "RoemyhuTri-H"
      },
      "execution_count": null,
      "outputs": []
    },
    {
      "cell_type": "code",
      "source": [
        "class Encoder(nn.Module):\n",
        "\n",
        "  def __init__(self, layers, embdim):\n",
        "    super().__init__()\n",
        "    self.layers = layers\n",
        "    self.norm = LayerNormalization(embdim)\n",
        "\n",
        "  def forward(self, x, mask):\n",
        "    for layer in self.layers:\n",
        "      x = layer(x, mask)\n",
        "    return self.norm(x)"
      ],
      "metadata": {
        "id": "CUJf-6U5VruM"
      },
      "execution_count": null,
      "outputs": []
    },
    {
      "cell_type": "code",
      "source": [
        "class DecoderBlock(nn.Module):\n",
        "  def __init__(self, selfattn, crossattn, ffwd, dropout):\n",
        "    super().__init__()\n",
        "    self.selfattn = selfattn\n",
        "    self.crossattn = crossattn\n",
        "    self.ffwd = ffwd\n",
        "    self.residual_connections = nn.ModuleList([ResidualConnection(dropout) for _ in range(3)])\n",
        "\n",
        "  def forward(self, x, encoder_output, src_mask, tgt_mask):\n",
        "    x = self.residual_connections[0](x, lambda x: self.selfattn(x,x,x, tgt_mask))\n",
        "    x = self.residual_connections[1](x, lambda x: self.crossattn(x, encoder_output, encoder_output, src_mask))\n",
        "    x = self.residual_connections[2](x, self.ffwd)\n",
        "    return x\n",
        "\n",
        "\n",
        "\n"
      ],
      "metadata": {
        "id": "k7eGnV3iXdX6"
      },
      "execution_count": null,
      "outputs": []
    },
    {
      "cell_type": "code",
      "source": [
        "class Decoder(nn.Module):\n",
        "\n",
        "  def __init__(self, layers, embdim):\n",
        "    super().__init__()\n",
        "    self.layers = layers\n",
        "    self.norm = LayerNormalization(embdim)\n",
        "\n",
        "  def forward(self, x, encoder_output, src_mask, tgt_mask):\n",
        "    for layer in self.layers:\n",
        "      x = layer(x, encoder_output, src_mask, tgt_mask)\n",
        "    return self.norm(x)"
      ],
      "metadata": {
        "id": "8cxmS95SYn-O"
      },
      "execution_count": null,
      "outputs": []
    },
    {
      "cell_type": "code",
      "source": [
        "class ProjectionLayer(nn.Module):\n",
        "\n",
        "  def __init__(self, embdim, vocab_size):\n",
        "    super().__init__()\n",
        "    self.proj = nn.Linear(embdim, vocab_size)\n",
        "  def forward(self, x):\n",
        "    return torch.log_softmax(self.proj(x), dim=-1)"
      ],
      "metadata": {
        "id": "MCt-sgmdZBzd"
      },
      "execution_count": null,
      "outputs": []
    },
    {
      "cell_type": "code",
      "source": [
        "class Transformer(nn.Module):\n",
        "\n",
        "  def __init__(self, encoder, decoder, src_embed, tgt_embd, src_pos, tgt_pos, projection_layer):\n",
        "    super().__init__()\n",
        "    self.encoder = encoder\n",
        "    self.decoder = decoder\n",
        "    self.src_embd = src_embed\n",
        "    self.tgt_embd = tgt_embd\n",
        "    self.src_pos = src_pos\n",
        "    self.tgt_pos = tgt_pos\n",
        "    self.proj_layer = projection_layer\n",
        "\n",
        "  def encode(self, src, src_mask):\n",
        "    src = self.src_embd(src)\n",
        "    src = self.src_pos(src)\n",
        "    return self.encoder(src, src_mask)\n",
        "\n",
        "  def decode(self, encoder_output, src_mask, tgt, tgt_mask):\n",
        "    tgt = self.tgt_embd(tgt)\n",
        "    tgt = self.tgt_pos(tgt)\n",
        "    return self.decoder(tgt, encoder_output, src_mask, tgt_mask)\n",
        "  def projection(self, x):\n",
        "    return self.projection_layer(x)\n"
      ],
      "metadata": {
        "id": "n5wYngTxZYs4"
      },
      "execution_count": null,
      "outputs": []
    },
    {
      "cell_type": "code",
      "source": [
        "def build_transformer(src_vocab_size,tgt_vocab_size, src_seq_len, tgt_seq_len, embdim, n_of_layers, no_of_heads, dropout):\n",
        "  src_embd = InputEmbeddings(src_vocab_size, embdim)\n",
        "  tgt_embd = InputEmbeddings(tgt_vocab_size, embdim)\n",
        "\n",
        "  src_pos = PositionalEmbeddings(src_seq_len, embdim, dropout)\n",
        "  tgt_pos = PositionalEmbeddings(tgt_seq_len, embdim, dropout)\n",
        "\n",
        "  encoder_blocks = []\n",
        "  for _ in range(n_of_layers):\n",
        "    encoder_sa = MultiHeadAttentionBlock(embdim, no_of_heads, dropout)\n",
        "    encoder_ffd = FeedForward(embdim, dropout)\n",
        "    encoder_block = EncoderBlock(encoder_sa, encoder_ffd, dropout)\n",
        "    encoder_blocks.append(encoder_block)\n",
        "  decoder_blocks = []\n",
        "  for _ in range(n_of_layers):\n",
        "    decoder_sa1 = MultiHeadAttentionBlock(embdim, no_of_heads, dropout)\n",
        "    decoder_ca = MultiHeadAttentionBlock(embdim, no_of_heads, dropout)\n",
        "    decoder_ffd = FeedForward(embdim, dropout)\n",
        "    decoder_block = DecoderBlock(decoder_sa1, decoder_ca, decoder_ffd, dropout)\n",
        "    decoder_blocks.append(decoder_block)\n",
        "\n",
        "  encoder = Encoder(nn.ModuleList(encoder_blocks))\n",
        "  decoder = Decoder(nn.ModuleList(nn.ModuleList(decoder_block)))\n",
        "\n",
        "  projection_layer = ProjectionLayer(embdim, tgt_vocab_size)\n",
        "\n",
        "  transformer = Transformer(encoder, decoder, src_embd, tgt_embd, src_pos, tgt_pos, projection_layer)\n",
        "\n"
      ],
      "metadata": {
        "id": "EkePWWGPas1C"
      },
      "execution_count": null,
      "outputs": []
    },
    {
      "cell_type": "code",
      "source": [
        "!pip install datasets"
      ],
      "metadata": {
        "colab": {
          "base_uri": "https://localhost:8080/"
        },
        "id": "5jsVDKc44oZm",
        "outputId": "f1f20171-ed7b-4f31-90da-61a92ec7c716"
      },
      "execution_count": null,
      "outputs": [
        {
          "output_type": "stream",
          "name": "stdout",
          "text": [
            "Requirement already satisfied: datasets in /usr/local/lib/python3.11/dist-packages (3.3.0)\n",
            "Requirement already satisfied: filelock in /usr/local/lib/python3.11/dist-packages (from datasets) (3.17.0)\n",
            "Requirement already satisfied: numpy>=1.17 in /usr/local/lib/python3.11/dist-packages (from datasets) (1.26.4)\n",
            "Requirement already satisfied: pyarrow>=15.0.0 in /usr/local/lib/python3.11/dist-packages (from datasets) (17.0.0)\n",
            "Requirement already satisfied: dill<0.3.9,>=0.3.0 in /usr/local/lib/python3.11/dist-packages (from datasets) (0.3.8)\n",
            "Requirement already satisfied: pandas in /usr/local/lib/python3.11/dist-packages (from datasets) (2.2.2)\n",
            "Requirement already satisfied: requests>=2.32.2 in /usr/local/lib/python3.11/dist-packages (from datasets) (2.32.3)\n",
            "Requirement already satisfied: tqdm>=4.66.3 in /usr/local/lib/python3.11/dist-packages (from datasets) (4.67.1)\n",
            "Requirement already satisfied: xxhash in /usr/local/lib/python3.11/dist-packages (from datasets) (3.5.0)\n",
            "Requirement already satisfied: multiprocess<0.70.17 in /usr/local/lib/python3.11/dist-packages (from datasets) (0.70.16)\n",
            "Requirement already satisfied: fsspec<=2024.12.0,>=2023.1.0 in /usr/local/lib/python3.11/dist-packages (from fsspec[http]<=2024.12.0,>=2023.1.0->datasets) (2024.10.0)\n",
            "Requirement already satisfied: aiohttp in /usr/local/lib/python3.11/dist-packages (from datasets) (3.11.12)\n",
            "Requirement already satisfied: huggingface-hub>=0.24.0 in /usr/local/lib/python3.11/dist-packages (from datasets) (0.28.1)\n",
            "Requirement already satisfied: packaging in /usr/local/lib/python3.11/dist-packages (from datasets) (24.2)\n",
            "Requirement already satisfied: pyyaml>=5.1 in /usr/local/lib/python3.11/dist-packages (from datasets) (6.0.2)\n",
            "Requirement already satisfied: aiohappyeyeballs>=2.3.0 in /usr/local/lib/python3.11/dist-packages (from aiohttp->datasets) (2.4.6)\n",
            "Requirement already satisfied: aiosignal>=1.1.2 in /usr/local/lib/python3.11/dist-packages (from aiohttp->datasets) (1.3.2)\n",
            "Requirement already satisfied: attrs>=17.3.0 in /usr/local/lib/python3.11/dist-packages (from aiohttp->datasets) (25.1.0)\n",
            "Requirement already satisfied: frozenlist>=1.1.1 in /usr/local/lib/python3.11/dist-packages (from aiohttp->datasets) (1.5.0)\n",
            "Requirement already satisfied: multidict<7.0,>=4.5 in /usr/local/lib/python3.11/dist-packages (from aiohttp->datasets) (6.1.0)\n",
            "Requirement already satisfied: propcache>=0.2.0 in /usr/local/lib/python3.11/dist-packages (from aiohttp->datasets) (0.2.1)\n",
            "Requirement already satisfied: yarl<2.0,>=1.17.0 in /usr/local/lib/python3.11/dist-packages (from aiohttp->datasets) (1.18.3)\n",
            "Requirement already satisfied: typing-extensions>=3.7.4.3 in /usr/local/lib/python3.11/dist-packages (from huggingface-hub>=0.24.0->datasets) (4.12.2)\n",
            "Requirement already satisfied: charset-normalizer<4,>=2 in /usr/local/lib/python3.11/dist-packages (from requests>=2.32.2->datasets) (3.4.1)\n",
            "Requirement already satisfied: idna<4,>=2.5 in /usr/local/lib/python3.11/dist-packages (from requests>=2.32.2->datasets) (3.10)\n",
            "Requirement already satisfied: urllib3<3,>=1.21.1 in /usr/local/lib/python3.11/dist-packages (from requests>=2.32.2->datasets) (2.3.0)\n",
            "Requirement already satisfied: certifi>=2017.4.17 in /usr/local/lib/python3.11/dist-packages (from requests>=2.32.2->datasets) (2025.1.31)\n",
            "Requirement already satisfied: python-dateutil>=2.8.2 in /usr/local/lib/python3.11/dist-packages (from pandas->datasets) (2.8.2)\n",
            "Requirement already satisfied: pytz>=2020.1 in /usr/local/lib/python3.11/dist-packages (from pandas->datasets) (2025.1)\n",
            "Requirement already satisfied: tzdata>=2022.7 in /usr/local/lib/python3.11/dist-packages (from pandas->datasets) (2025.1)\n",
            "Requirement already satisfied: six>=1.5 in /usr/local/lib/python3.11/dist-packages (from python-dateutil>=2.8.2->pandas->datasets) (1.17.0)\n"
          ]
        }
      ]
    },
    {
      "cell_type": "code",
      "source": [
        "import pandas as pd"
      ],
      "metadata": {
        "id": "ni8vNmaj8YCv"
      },
      "execution_count": null,
      "outputs": []
    },
    {
      "cell_type": "code",
      "source": [
        "from datasets import load_dataset\n",
        "\n",
        "# Load the dataset\n",
        "ds = load_dataset(\"iamTangsang/Nepali-to-English-Translation-Dataset\")\n",
        "\n",
        "# Convert each split (train, test, validation) to Pandas DataFrame\n",
        "df_train = ds['train'].to_pandas() if 'train' in ds else None\n",
        "df_test = ds['test'].to_pandas() if 'test' in ds else None\n",
        "df_valid = ds['validation'].to_pandas() if 'validation' in ds else None\n"
      ],
      "metadata": {
        "id": "Cz6Sv66ODX5O"
      },
      "execution_count": null,
      "outputs": []
    },
    {
      "cell_type": "code",
      "source": [
        "df_train = pd.concat([df_train, df_valid], ignore_index=True)"
      ],
      "metadata": {
        "id": "n6g3uc828Q23"
      },
      "execution_count": null,
      "outputs": []
    },
    {
      "cell_type": "code",
      "source": [
        "df_train.columns = ['tgt', 'src']\n",
        "df_test.columns = ['tgt', 'src']"
      ],
      "metadata": {
        "id": "qBL8O9D36kCq"
      },
      "execution_count": null,
      "outputs": []
    },
    {
      "cell_type": "code",
      "source": [
        "df_train"
      ],
      "metadata": {
        "colab": {
          "base_uri": "https://localhost:8080/",
          "height": 423
        },
        "id": "wpU0bo0jFMxH",
        "outputId": "516f91ff-8886-47c2-82c8-d1d835b99d3c"
      },
      "execution_count": null,
      "outputs": [
        {
          "output_type": "execute_result",
          "data": {
            "text/plain": [
              "                                                      tgt  \\\n",
              "0       \"कुनै पनि अन्य सरकारी एजेन्सीले यो जानकारी प्र...   \n",
              "1         एउटा गीत प्ले गर्नुहोस्, जुन तपाईं चाहानुहुन्छ।   \n",
              "2       तर, तपाईं उदास हुँदा चिढिएर अझ बढी रिसाउनुहुन्...   \n",
              "3                       जिन्दगी भनेको कुनै चलचित्र होइन ।   \n",
              "4             त्यसपछि, म र उनीबीच केही दूरीको महसुस गरेँ।   \n",
              "...                                                   ...   \n",
              "713558  अगुवाहरूले मानिसहरूलाई आज्ञा दिए। तिनीहरूले भन...   \n",
              "713559             यी सबै कुराहरूबाट आज म फेरि झस्कें ।\\n   \n",
              "713560   उनीहरुको घरबाट समुद्रको दृश्यसमेत देख्न सकिन्छ ।   \n",
              "713561                यी परियोजनाको लागत भने खुलेको छैन ।   \n",
              "713562            यदि भएको छैन भने पनि त्यसमा मेरो दोष छ।   \n",
              "\n",
              "                                                      src  \n",
              "0       \"No other government agency can use this infor...  \n",
              "1                             Pick a song which you want.  \n",
              "2       But, when you get sad, if you are going to get...  \n",
              "3                                   \"Life is not a movie.  \n",
              "4       Yet I felt there was a distance between me and...  \n",
              "...                                                   ...  \n",
              "713558  and they commanded the people, saying, \"When y...  \n",
              "713559            Today, I got rid of all these things.\\n  \n",
              "713560           You can even see the sea from his house.  \n",
              "713561          The project's cost is not being released.  \n",
              "713562                      If I haven't, it is my fault.  \n",
              "\n",
              "[713563 rows x 2 columns]"
            ],
            "text/html": [
              "\n",
              "  <div id=\"df-049a124d-b94e-4dfd-add6-a2ebabffee87\" class=\"colab-df-container\">\n",
              "    <div>\n",
              "<style scoped>\n",
              "    .dataframe tbody tr th:only-of-type {\n",
              "        vertical-align: middle;\n",
              "    }\n",
              "\n",
              "    .dataframe tbody tr th {\n",
              "        vertical-align: top;\n",
              "    }\n",
              "\n",
              "    .dataframe thead th {\n",
              "        text-align: right;\n",
              "    }\n",
              "</style>\n",
              "<table border=\"1\" class=\"dataframe\">\n",
              "  <thead>\n",
              "    <tr style=\"text-align: right;\">\n",
              "      <th></th>\n",
              "      <th>tgt</th>\n",
              "      <th>src</th>\n",
              "    </tr>\n",
              "  </thead>\n",
              "  <tbody>\n",
              "    <tr>\n",
              "      <th>0</th>\n",
              "      <td>\"कुनै पनि अन्य सरकारी एजेन्सीले यो जानकारी प्र...</td>\n",
              "      <td>\"No other government agency can use this infor...</td>\n",
              "    </tr>\n",
              "    <tr>\n",
              "      <th>1</th>\n",
              "      <td>एउटा गीत प्ले गर्नुहोस्, जुन तपाईं चाहानुहुन्छ।</td>\n",
              "      <td>Pick a song which you want.</td>\n",
              "    </tr>\n",
              "    <tr>\n",
              "      <th>2</th>\n",
              "      <td>तर, तपाईं उदास हुँदा चिढिएर अझ बढी रिसाउनुहुन्...</td>\n",
              "      <td>But, when you get sad, if you are going to get...</td>\n",
              "    </tr>\n",
              "    <tr>\n",
              "      <th>3</th>\n",
              "      <td>जिन्दगी भनेको कुनै चलचित्र होइन ।</td>\n",
              "      <td>\"Life is not a movie.</td>\n",
              "    </tr>\n",
              "    <tr>\n",
              "      <th>4</th>\n",
              "      <td>त्यसपछि, म र उनीबीच केही दूरीको महसुस गरेँ।</td>\n",
              "      <td>Yet I felt there was a distance between me and...</td>\n",
              "    </tr>\n",
              "    <tr>\n",
              "      <th>...</th>\n",
              "      <td>...</td>\n",
              "      <td>...</td>\n",
              "    </tr>\n",
              "    <tr>\n",
              "      <th>713558</th>\n",
              "      <td>अगुवाहरूले मानिसहरूलाई आज्ञा दिए। तिनीहरूले भन...</td>\n",
              "      <td>and they commanded the people, saying, \"When y...</td>\n",
              "    </tr>\n",
              "    <tr>\n",
              "      <th>713559</th>\n",
              "      <td>यी सबै कुराहरूबाट आज म फेरि झस्कें ।\\n</td>\n",
              "      <td>Today, I got rid of all these things.\\n</td>\n",
              "    </tr>\n",
              "    <tr>\n",
              "      <th>713560</th>\n",
              "      <td>उनीहरुको घरबाट समुद्रको दृश्यसमेत देख्न सकिन्छ ।</td>\n",
              "      <td>You can even see the sea from his house.</td>\n",
              "    </tr>\n",
              "    <tr>\n",
              "      <th>713561</th>\n",
              "      <td>यी परियोजनाको लागत भने खुलेको छैन ।</td>\n",
              "      <td>The project's cost is not being released.</td>\n",
              "    </tr>\n",
              "    <tr>\n",
              "      <th>713562</th>\n",
              "      <td>यदि भएको छैन भने पनि त्यसमा मेरो दोष छ।</td>\n",
              "      <td>If I haven't, it is my fault.</td>\n",
              "    </tr>\n",
              "  </tbody>\n",
              "</table>\n",
              "<p>713563 rows × 2 columns</p>\n",
              "</div>\n",
              "    <div class=\"colab-df-buttons\">\n",
              "\n",
              "  <div class=\"colab-df-container\">\n",
              "    <button class=\"colab-df-convert\" onclick=\"convertToInteractive('df-049a124d-b94e-4dfd-add6-a2ebabffee87')\"\n",
              "            title=\"Convert this dataframe to an interactive table.\"\n",
              "            style=\"display:none;\">\n",
              "\n",
              "  <svg xmlns=\"http://www.w3.org/2000/svg\" height=\"24px\" viewBox=\"0 -960 960 960\">\n",
              "    <path d=\"M120-120v-720h720v720H120Zm60-500h600v-160H180v160Zm220 220h160v-160H400v160Zm0 220h160v-160H400v160ZM180-400h160v-160H180v160Zm440 0h160v-160H620v160ZM180-180h160v-160H180v160Zm440 0h160v-160H620v160Z\"/>\n",
              "  </svg>\n",
              "    </button>\n",
              "\n",
              "  <style>\n",
              "    .colab-df-container {\n",
              "      display:flex;\n",
              "      gap: 12px;\n",
              "    }\n",
              "\n",
              "    .colab-df-convert {\n",
              "      background-color: #E8F0FE;\n",
              "      border: none;\n",
              "      border-radius: 50%;\n",
              "      cursor: pointer;\n",
              "      display: none;\n",
              "      fill: #1967D2;\n",
              "      height: 32px;\n",
              "      padding: 0 0 0 0;\n",
              "      width: 32px;\n",
              "    }\n",
              "\n",
              "    .colab-df-convert:hover {\n",
              "      background-color: #E2EBFA;\n",
              "      box-shadow: 0px 1px 2px rgba(60, 64, 67, 0.3), 0px 1px 3px 1px rgba(60, 64, 67, 0.15);\n",
              "      fill: #174EA6;\n",
              "    }\n",
              "\n",
              "    .colab-df-buttons div {\n",
              "      margin-bottom: 4px;\n",
              "    }\n",
              "\n",
              "    [theme=dark] .colab-df-convert {\n",
              "      background-color: #3B4455;\n",
              "      fill: #D2E3FC;\n",
              "    }\n",
              "\n",
              "    [theme=dark] .colab-df-convert:hover {\n",
              "      background-color: #434B5C;\n",
              "      box-shadow: 0px 1px 3px 1px rgba(0, 0, 0, 0.15);\n",
              "      filter: drop-shadow(0px 1px 2px rgba(0, 0, 0, 0.3));\n",
              "      fill: #FFFFFF;\n",
              "    }\n",
              "  </style>\n",
              "\n",
              "    <script>\n",
              "      const buttonEl =\n",
              "        document.querySelector('#df-049a124d-b94e-4dfd-add6-a2ebabffee87 button.colab-df-convert');\n",
              "      buttonEl.style.display =\n",
              "        google.colab.kernel.accessAllowed ? 'block' : 'none';\n",
              "\n",
              "      async function convertToInteractive(key) {\n",
              "        const element = document.querySelector('#df-049a124d-b94e-4dfd-add6-a2ebabffee87');\n",
              "        const dataTable =\n",
              "          await google.colab.kernel.invokeFunction('convertToInteractive',\n",
              "                                                    [key], {});\n",
              "        if (!dataTable) return;\n",
              "\n",
              "        const docLinkHtml = 'Like what you see? Visit the ' +\n",
              "          '<a target=\"_blank\" href=https://colab.research.google.com/notebooks/data_table.ipynb>data table notebook</a>'\n",
              "          + ' to learn more about interactive tables.';\n",
              "        element.innerHTML = '';\n",
              "        dataTable['output_type'] = 'display_data';\n",
              "        await google.colab.output.renderOutput(dataTable, element);\n",
              "        const docLink = document.createElement('div');\n",
              "        docLink.innerHTML = docLinkHtml;\n",
              "        element.appendChild(docLink);\n",
              "      }\n",
              "    </script>\n",
              "  </div>\n",
              "\n",
              "\n",
              "<div id=\"df-5e10f8ff-f346-4a22-a252-64318e6c8b3a\">\n",
              "  <button class=\"colab-df-quickchart\" onclick=\"quickchart('df-5e10f8ff-f346-4a22-a252-64318e6c8b3a')\"\n",
              "            title=\"Suggest charts\"\n",
              "            style=\"display:none;\">\n",
              "\n",
              "<svg xmlns=\"http://www.w3.org/2000/svg\" height=\"24px\"viewBox=\"0 0 24 24\"\n",
              "     width=\"24px\">\n",
              "    <g>\n",
              "        <path d=\"M19 3H5c-1.1 0-2 .9-2 2v14c0 1.1.9 2 2 2h14c1.1 0 2-.9 2-2V5c0-1.1-.9-2-2-2zM9 17H7v-7h2v7zm4 0h-2V7h2v10zm4 0h-2v-4h2v4z\"/>\n",
              "    </g>\n",
              "</svg>\n",
              "  </button>\n",
              "\n",
              "<style>\n",
              "  .colab-df-quickchart {\n",
              "      --bg-color: #E8F0FE;\n",
              "      --fill-color: #1967D2;\n",
              "      --hover-bg-color: #E2EBFA;\n",
              "      --hover-fill-color: #174EA6;\n",
              "      --disabled-fill-color: #AAA;\n",
              "      --disabled-bg-color: #DDD;\n",
              "  }\n",
              "\n",
              "  [theme=dark] .colab-df-quickchart {\n",
              "      --bg-color: #3B4455;\n",
              "      --fill-color: #D2E3FC;\n",
              "      --hover-bg-color: #434B5C;\n",
              "      --hover-fill-color: #FFFFFF;\n",
              "      --disabled-bg-color: #3B4455;\n",
              "      --disabled-fill-color: #666;\n",
              "  }\n",
              "\n",
              "  .colab-df-quickchart {\n",
              "    background-color: var(--bg-color);\n",
              "    border: none;\n",
              "    border-radius: 50%;\n",
              "    cursor: pointer;\n",
              "    display: none;\n",
              "    fill: var(--fill-color);\n",
              "    height: 32px;\n",
              "    padding: 0;\n",
              "    width: 32px;\n",
              "  }\n",
              "\n",
              "  .colab-df-quickchart:hover {\n",
              "    background-color: var(--hover-bg-color);\n",
              "    box-shadow: 0 1px 2px rgba(60, 64, 67, 0.3), 0 1px 3px 1px rgba(60, 64, 67, 0.15);\n",
              "    fill: var(--button-hover-fill-color);\n",
              "  }\n",
              "\n",
              "  .colab-df-quickchart-complete:disabled,\n",
              "  .colab-df-quickchart-complete:disabled:hover {\n",
              "    background-color: var(--disabled-bg-color);\n",
              "    fill: var(--disabled-fill-color);\n",
              "    box-shadow: none;\n",
              "  }\n",
              "\n",
              "  .colab-df-spinner {\n",
              "    border: 2px solid var(--fill-color);\n",
              "    border-color: transparent;\n",
              "    border-bottom-color: var(--fill-color);\n",
              "    animation:\n",
              "      spin 1s steps(1) infinite;\n",
              "  }\n",
              "\n",
              "  @keyframes spin {\n",
              "    0% {\n",
              "      border-color: transparent;\n",
              "      border-bottom-color: var(--fill-color);\n",
              "      border-left-color: var(--fill-color);\n",
              "    }\n",
              "    20% {\n",
              "      border-color: transparent;\n",
              "      border-left-color: var(--fill-color);\n",
              "      border-top-color: var(--fill-color);\n",
              "    }\n",
              "    30% {\n",
              "      border-color: transparent;\n",
              "      border-left-color: var(--fill-color);\n",
              "      border-top-color: var(--fill-color);\n",
              "      border-right-color: var(--fill-color);\n",
              "    }\n",
              "    40% {\n",
              "      border-color: transparent;\n",
              "      border-right-color: var(--fill-color);\n",
              "      border-top-color: var(--fill-color);\n",
              "    }\n",
              "    60% {\n",
              "      border-color: transparent;\n",
              "      border-right-color: var(--fill-color);\n",
              "    }\n",
              "    80% {\n",
              "      border-color: transparent;\n",
              "      border-right-color: var(--fill-color);\n",
              "      border-bottom-color: var(--fill-color);\n",
              "    }\n",
              "    90% {\n",
              "      border-color: transparent;\n",
              "      border-bottom-color: var(--fill-color);\n",
              "    }\n",
              "  }\n",
              "</style>\n",
              "\n",
              "  <script>\n",
              "    async function quickchart(key) {\n",
              "      const quickchartButtonEl =\n",
              "        document.querySelector('#' + key + ' button');\n",
              "      quickchartButtonEl.disabled = true;  // To prevent multiple clicks.\n",
              "      quickchartButtonEl.classList.add('colab-df-spinner');\n",
              "      try {\n",
              "        const charts = await google.colab.kernel.invokeFunction(\n",
              "            'suggestCharts', [key], {});\n",
              "      } catch (error) {\n",
              "        console.error('Error during call to suggestCharts:', error);\n",
              "      }\n",
              "      quickchartButtonEl.classList.remove('colab-df-spinner');\n",
              "      quickchartButtonEl.classList.add('colab-df-quickchart-complete');\n",
              "    }\n",
              "    (() => {\n",
              "      let quickchartButtonEl =\n",
              "        document.querySelector('#df-5e10f8ff-f346-4a22-a252-64318e6c8b3a button');\n",
              "      quickchartButtonEl.style.display =\n",
              "        google.colab.kernel.accessAllowed ? 'block' : 'none';\n",
              "    })();\n",
              "  </script>\n",
              "</div>\n",
              "\n",
              "  <div id=\"id_c3eb7c37-33da-4f4e-bf13-1430699d0a37\">\n",
              "    <style>\n",
              "      .colab-df-generate {\n",
              "        background-color: #E8F0FE;\n",
              "        border: none;\n",
              "        border-radius: 50%;\n",
              "        cursor: pointer;\n",
              "        display: none;\n",
              "        fill: #1967D2;\n",
              "        height: 32px;\n",
              "        padding: 0 0 0 0;\n",
              "        width: 32px;\n",
              "      }\n",
              "\n",
              "      .colab-df-generate:hover {\n",
              "        background-color: #E2EBFA;\n",
              "        box-shadow: 0px 1px 2px rgba(60, 64, 67, 0.3), 0px 1px 3px 1px rgba(60, 64, 67, 0.15);\n",
              "        fill: #174EA6;\n",
              "      }\n",
              "\n",
              "      [theme=dark] .colab-df-generate {\n",
              "        background-color: #3B4455;\n",
              "        fill: #D2E3FC;\n",
              "      }\n",
              "\n",
              "      [theme=dark] .colab-df-generate:hover {\n",
              "        background-color: #434B5C;\n",
              "        box-shadow: 0px 1px 3px 1px rgba(0, 0, 0, 0.15);\n",
              "        filter: drop-shadow(0px 1px 2px rgba(0, 0, 0, 0.3));\n",
              "        fill: #FFFFFF;\n",
              "      }\n",
              "    </style>\n",
              "    <button class=\"colab-df-generate\" onclick=\"generateWithVariable('df_train')\"\n",
              "            title=\"Generate code using this dataframe.\"\n",
              "            style=\"display:none;\">\n",
              "\n",
              "  <svg xmlns=\"http://www.w3.org/2000/svg\" height=\"24px\"viewBox=\"0 0 24 24\"\n",
              "       width=\"24px\">\n",
              "    <path d=\"M7,19H8.4L18.45,9,17,7.55,7,17.6ZM5,21V16.75L18.45,3.32a2,2,0,0,1,2.83,0l1.4,1.43a1.91,1.91,0,0,1,.58,1.4,1.91,1.91,0,0,1-.58,1.4L9.25,21ZM18.45,9,17,7.55Zm-12,3A5.31,5.31,0,0,0,4.9,8.1,5.31,5.31,0,0,0,1,6.5,5.31,5.31,0,0,0,4.9,4.9,5.31,5.31,0,0,0,6.5,1,5.31,5.31,0,0,0,8.1,4.9,5.31,5.31,0,0,0,12,6.5,5.46,5.46,0,0,0,6.5,12Z\"/>\n",
              "  </svg>\n",
              "    </button>\n",
              "    <script>\n",
              "      (() => {\n",
              "      const buttonEl =\n",
              "        document.querySelector('#id_c3eb7c37-33da-4f4e-bf13-1430699d0a37 button.colab-df-generate');\n",
              "      buttonEl.style.display =\n",
              "        google.colab.kernel.accessAllowed ? 'block' : 'none';\n",
              "\n",
              "      buttonEl.onclick = () => {\n",
              "        google.colab.notebook.generateWithVariable('df_train');\n",
              "      }\n",
              "      })();\n",
              "    </script>\n",
              "  </div>\n",
              "\n",
              "    </div>\n",
              "  </div>\n"
            ],
            "application/vnd.google.colaboratory.intrinsic+json": {
              "type": "dataframe",
              "variable_name": "df_train"
            }
          },
          "metadata": {},
          "execution_count": 106
        }
      ]
    },
    {
      "cell_type": "code",
      "source": [
        "# SOURCE TEXT => ENGLISH\n",
        "# TARGET TEXT => NEPALI"
      ],
      "metadata": {
        "id": "3Q4s2U3dGIbu"
      },
      "execution_count": null,
      "outputs": []
    },
    {
      "cell_type": "code",
      "source": [
        "from tokenizers.trainers import WordLevelTrainer\n",
        "from tokenizers import Tokenizer\n",
        "from tokenizers.pre_tokenizers import Whitespace\n",
        "from tokenizers.models import BPE, WordLevel\n",
        "import os\n",
        "def create_or_load_tokenizer(df):\n",
        "  if os.path.exists(\"SourceTokenizer.json\"):\n",
        "    srctok = Tokenizer.from_file(\"SourceTokenizer.json\")\n",
        "    tgttok = Tokenizer.from_file(\"TargetTokenizer.json\")\n",
        "    return srctok, tgttok\n",
        "  else:\n",
        "    tokenizer = Tokenizer(WordLevel(unk_token=\"[UNK]\"))\n",
        "    trainer = WordLevelTrainer(special_tokens=[\"[UNK]\",  \"[PAD]\", \"[SOS]\", \"[EOS]\"], vocab_size = 50000, min_frequency=8)\n",
        "    tokenizer.pre_tokenizer = Whitespace()\n",
        "    tokenizer.train_from_iterator(df_train['src'], trainer=trainer)\n",
        "    tokenizer.save(\"SourceTokenizer.json\")\n",
        "    tokenizer.train_from_iterator(df_train['tgt'], trainer=trainer)\n",
        "    tokenizer.save(\"TargetTokenizer.json\")\n",
        "    srctokenizer = Tokenizer.from_file(\"SourceTokenizer.json\")\n",
        "    targettokenizer = Tokenizer.from_file(\"TargetTokenizer.json\")\n",
        "    return srctokenizer, targettokenizer"
      ],
      "metadata": {
        "id": "BroBNjtW8bmO"
      },
      "execution_count": null,
      "outputs": []
    },
    {
      "cell_type": "code",
      "source": [
        "src_tok, tgt_tok = create_or_load_tokenizer(df_train)"
      ],
      "metadata": {
        "id": "AlplQDDc9oBC"
      },
      "execution_count": null,
      "outputs": []
    },
    {
      "cell_type": "code",
      "source": [
        "src_tok.get_vocab_size()"
      ],
      "metadata": {
        "colab": {
          "base_uri": "https://localhost:8080/"
        },
        "id": "AT5FqbOwAb-h",
        "outputId": "5917bb24-35e8-404e-bcc7-b5ea0083c0d9"
      },
      "execution_count": null,
      "outputs": [
        {
          "output_type": "execute_result",
          "data": {
            "text/plain": [
              "20687"
            ]
          },
          "metadata": {},
          "execution_count": 109
        }
      ]
    },
    {
      "cell_type": "code",
      "source": [
        "tgt_tok.get_vocab_size()"
      ],
      "metadata": {
        "colab": {
          "base_uri": "https://localhost:8080/"
        },
        "id": "xk9hOsyK9vzU",
        "outputId": "7a3715bd-3da0-4810-8e11-94f63409020d"
      },
      "execution_count": null,
      "outputs": [
        {
          "output_type": "execute_result",
          "data": {
            "text/plain": [
              "36061"
            ]
          },
          "metadata": {},
          "execution_count": 110
        }
      ]
    },
    {
      "cell_type": "code",
      "source": [
        "from torch.utils.data import Dataset\n",
        "class BiDataSet(Dataset):\n",
        "\n",
        "  def __init__(self, df, src_tok, tgt_tok,  block_size):\n",
        "    self.df = df\n",
        "    self.src_tok = src_tok\n",
        "    self.tgt_tok = tgt_tok\n",
        "    self.block_size = block_size\n",
        "\n",
        "    self.sos_tok = torch.tensor([src_tok.token_to_id([\"[SOS]\"])], dtype = torch.int64)\n",
        "    self.eos_tok = torch.tensor([src_tok.token_to_id([\"[EOS]\"])], dtype = torch.int64)\n",
        "    self.pad_tok = torch.tensor([src_tok.token_to_id([\"[PAD]\"])], dtype = torch.int64)\n",
        "\n",
        "  def __len__(self):\n",
        "    return len(self.df)\n",
        "\n",
        "  def __getitem__(self, index):\n",
        "    df = self.df.iloc[index]\n",
        "    src_text = df['src']\n",
        "    tgt_text = df['tgt']\n",
        "\n",
        "    enc_inp_tokens = self.src_tok(src_text).ids\n",
        "    dec_inp_tokens = self.tgt_tok(tgt_text).ids\n",
        "\n",
        "    enc_num_padding_tok = self.block_size - len(enc_inp_tokens)-2\n",
        "    dec_num_padding_tok = self.block_size - len(dec_input_tokens)-1\n",
        "\n",
        "    if enc_num_padding_tok < 0 or dec_num_padding_tok<0:\n",
        "      raise ValueError(\"Sentence is too long\")\n",
        "\n",
        "    encoder_input = torch.cat([\n",
        "        self.sos_tok,\n",
        "        torch.tensor(enc_inp_tokens, dtype = torch.int64),\n",
        "        self.eos_token,\n",
        "        torch.tensor([self.pad_token]*enc_num_padding_tok, dtype=torch.int64)\n",
        "    ])\n",
        "\n",
        "\n",
        "\n",
        "\n",
        "\n"
      ],
      "metadata": {
        "id": "6gfr0BM-DxLA"
      },
      "execution_count": null,
      "outputs": []
    },
    {
      "cell_type": "code",
      "source": [
        "df_train.iloc[1]['source']"
      ],
      "metadata": {
        "colab": {
          "base_uri": "https://localhost:8080/",
          "height": 35
        },
        "id": "A65ieKzpCfhg",
        "outputId": "7b109e65-b02b-4715-9a8f-b2784e762f61"
      },
      "execution_count": null,
      "outputs": [
        {
          "output_type": "execute_result",
          "data": {
            "text/plain": [
              "'एउटा गीत प्ले गर्नुहोस्, जुन तपाईं चाहानुहुन्छ।'"
            ],
            "application/vnd.google.colaboratory.intrinsic+json": {
              "type": "string"
            }
          },
          "metadata": {},
          "execution_count": 102
        }
      ]
    },
    {
      "cell_type": "code",
      "source": [],
      "metadata": {
        "id": "PuBPuX6aE_L5"
      },
      "execution_count": null,
      "outputs": []
    }
  ]
}